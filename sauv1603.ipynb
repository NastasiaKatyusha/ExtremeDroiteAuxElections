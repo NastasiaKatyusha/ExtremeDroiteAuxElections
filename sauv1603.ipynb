{
 "cells": [
  {
   "cell_type": "code",
   "execution_count": 11,
   "metadata": {},
   "outputs": [],
   "source": [
    "import pandas as pd"
   ]
  },
  {
   "cell_type": "code",
   "execution_count": 13,
   "metadata": {},
   "outputs": [],
   "source": [
    "df = pd.read_excel('resultats-par-niveau-burvot-t1-france-entiere.xlsx')"
   ]
  },
  {
   "cell_type": "code",
   "execution_count": 14,
   "metadata": {},
   "outputs": [
    {
     "data": {
      "text/html": [
       "<div>\n",
       "<style scoped>\n",
       "    .dataframe tbody tr th:only-of-type {\n",
       "        vertical-align: middle;\n",
       "    }\n",
       "\n",
       "    .dataframe tbody tr th {\n",
       "        vertical-align: top;\n",
       "    }\n",
       "\n",
       "    .dataframe thead th {\n",
       "        text-align: right;\n",
       "    }\n",
       "</style>\n",
       "<table border=\"1\" class=\"dataframe\">\n",
       "  <thead>\n",
       "    <tr style=\"text-align: right;\">\n",
       "      <th></th>\n",
       "      <th>Code du département</th>\n",
       "      <th>Libellé du département</th>\n",
       "      <th>Code de la circonscription</th>\n",
       "      <th>Libellé de la circonscription</th>\n",
       "      <th>Code de la commune</th>\n",
       "      <th>Libellé de la commune</th>\n",
       "      <th>Code du b.vote</th>\n",
       "      <th>Inscrits</th>\n",
       "      <th>Abstentions</th>\n",
       "      <th>% Abs/Ins</th>\n",
       "      <th>...</th>\n",
       "      <th>Unnamed: 95</th>\n",
       "      <th>Unnamed: 96</th>\n",
       "      <th>Unnamed: 97</th>\n",
       "      <th>Unnamed: 98</th>\n",
       "      <th>Unnamed: 99</th>\n",
       "      <th>Unnamed: 100</th>\n",
       "      <th>Unnamed: 101</th>\n",
       "      <th>Unnamed: 102</th>\n",
       "      <th>Unnamed: 103</th>\n",
       "      <th>Unnamed: 104</th>\n",
       "    </tr>\n",
       "  </thead>\n",
       "  <tbody>\n",
       "    <tr>\n",
       "      <th>0</th>\n",
       "      <td>01</td>\n",
       "      <td>Ain</td>\n",
       "      <td>4</td>\n",
       "      <td>4ème circonscription</td>\n",
       "      <td>1</td>\n",
       "      <td>L'Abergement-Clémenciat</td>\n",
       "      <td>0001</td>\n",
       "      <td>645</td>\n",
       "      <td>108</td>\n",
       "      <td>16.74</td>\n",
       "      <td>...</td>\n",
       "      <td>3</td>\n",
       "      <td>0.47</td>\n",
       "      <td>0.58</td>\n",
       "      <td>12</td>\n",
       "      <td>M</td>\n",
       "      <td>DUPONT-AIGNAN</td>\n",
       "      <td>Nicolas</td>\n",
       "      <td>21</td>\n",
       "      <td>3.26</td>\n",
       "      <td>4.04</td>\n",
       "    </tr>\n",
       "    <tr>\n",
       "      <th>1</th>\n",
       "      <td>01</td>\n",
       "      <td>Ain</td>\n",
       "      <td>5</td>\n",
       "      <td>5ème circonscription</td>\n",
       "      <td>2</td>\n",
       "      <td>L'Abergement-de-Varey</td>\n",
       "      <td>0001</td>\n",
       "      <td>213</td>\n",
       "      <td>38</td>\n",
       "      <td>17.84</td>\n",
       "      <td>...</td>\n",
       "      <td>3</td>\n",
       "      <td>1.41</td>\n",
       "      <td>1.75</td>\n",
       "      <td>12</td>\n",
       "      <td>M</td>\n",
       "      <td>DUPONT-AIGNAN</td>\n",
       "      <td>Nicolas</td>\n",
       "      <td>0</td>\n",
       "      <td>0.00</td>\n",
       "      <td>0.00</td>\n",
       "    </tr>\n",
       "  </tbody>\n",
       "</table>\n",
       "<p>2 rows × 105 columns</p>\n",
       "</div>"
      ],
      "text/plain": [
       "  Code du département Libellé du département  Code de la circonscription  \\\n",
       "0                  01                    Ain                           4   \n",
       "1                  01                    Ain                           5   \n",
       "\n",
       "  Libellé de la circonscription  Code de la commune    Libellé de la commune  \\\n",
       "0          4ème circonscription                   1  L'Abergement-Clémenciat   \n",
       "1          5ème circonscription                   2    L'Abergement-de-Varey   \n",
       "\n",
       "  Code du b.vote  Inscrits  Abstentions  % Abs/Ins  ...  Unnamed: 95  \\\n",
       "0           0001       645          108      16.74  ...            3   \n",
       "1           0001       213           38      17.84  ...            3   \n",
       "\n",
       "   Unnamed: 96  Unnamed: 97  Unnamed: 98  Unnamed: 99   Unnamed: 100  \\\n",
       "0         0.47         0.58           12            M  DUPONT-AIGNAN   \n",
       "1         1.41         1.75           12            M  DUPONT-AIGNAN   \n",
       "\n",
       "   Unnamed: 101  Unnamed: 102  Unnamed: 103  Unnamed: 104  \n",
       "0       Nicolas            21          3.26          4.04  \n",
       "1       Nicolas             0          0.00          0.00  \n",
       "\n",
       "[2 rows x 105 columns]"
      ]
     },
     "execution_count": 14,
     "metadata": {},
     "output_type": "execute_result"
    }
   ],
   "source": [
    "df.head(2)"
   ]
  },
  {
   "cell_type": "code",
   "execution_count": 15,
   "metadata": {},
   "outputs": [
    {
     "name": "stdout",
     "output_type": "stream",
     "text": [
      "Code du département\n",
      "Libellé du département\n",
      "Code de la circonscription\n",
      "Libellé de la circonscription\n",
      "Code de la commune\n",
      "Libellé de la commune\n",
      "Code du b.vote\n",
      "Inscrits\n",
      "Abstentions\n",
      "% Abs/Ins\n",
      "Votants\n",
      "% Vot/Ins\n",
      "Blancs\n",
      "% Blancs/Ins\n",
      "% Blancs/Vot\n",
      "Nuls\n",
      "% Nuls/Ins\n",
      "% Nuls/Vot\n",
      "Exprimés\n",
      "% Exp/Ins\n",
      "% Exp/Vot\n",
      "N°Panneau\n",
      "Sexe\n",
      "Nom\n",
      "Prénom\n",
      "Voix\n",
      "% Voix/Ins\n",
      "% Voix/Exp\n",
      "Unnamed: 28\n",
      "Unnamed: 29\n",
      "Unnamed: 30\n",
      "Unnamed: 31\n",
      "Unnamed: 32\n",
      "Unnamed: 33\n",
      "Unnamed: 34\n",
      "Unnamed: 35\n",
      "Unnamed: 36\n",
      "Unnamed: 37\n",
      "Unnamed: 38\n",
      "Unnamed: 39\n",
      "Unnamed: 40\n",
      "Unnamed: 41\n",
      "Unnamed: 42\n",
      "Unnamed: 43\n",
      "Unnamed: 44\n",
      "Unnamed: 45\n",
      "Unnamed: 46\n",
      "Unnamed: 47\n",
      "Unnamed: 48\n",
      "Unnamed: 49\n",
      "Unnamed: 50\n",
      "Unnamed: 51\n",
      "Unnamed: 52\n",
      "Unnamed: 53\n",
      "Unnamed: 54\n",
      "Unnamed: 55\n",
      "Unnamed: 56\n",
      "Unnamed: 57\n",
      "Unnamed: 58\n",
      "Unnamed: 59\n",
      "Unnamed: 60\n",
      "Unnamed: 61\n",
      "Unnamed: 62\n",
      "Unnamed: 63\n",
      "Unnamed: 64\n",
      "Unnamed: 65\n",
      "Unnamed: 66\n",
      "Unnamed: 67\n",
      "Unnamed: 68\n",
      "Unnamed: 69\n",
      "Unnamed: 70\n",
      "Unnamed: 71\n",
      "Unnamed: 72\n",
      "Unnamed: 73\n",
      "Unnamed: 74\n",
      "Unnamed: 75\n",
      "Unnamed: 76\n",
      "Unnamed: 77\n",
      "Unnamed: 78\n",
      "Unnamed: 79\n",
      "Unnamed: 80\n",
      "Unnamed: 81\n",
      "Unnamed: 82\n",
      "Unnamed: 83\n",
      "Unnamed: 84\n",
      "Unnamed: 85\n",
      "Unnamed: 86\n",
      "Unnamed: 87\n",
      "Unnamed: 88\n",
      "Unnamed: 89\n",
      "Unnamed: 90\n",
      "Unnamed: 91\n",
      "Unnamed: 92\n",
      "Unnamed: 93\n",
      "Unnamed: 94\n",
      "Unnamed: 95\n",
      "Unnamed: 96\n",
      "Unnamed: 97\n",
      "Unnamed: 98\n",
      "Unnamed: 99\n",
      "Unnamed: 100\n",
      "Unnamed: 101\n",
      "Unnamed: 102\n",
      "Unnamed: 103\n",
      "Unnamed: 104\n"
     ]
    }
   ],
   "source": [
    "for col in df.columns:\n",
    "    print(col)"
   ]
  },
  {
   "cell_type": "markdown",
   "metadata": {},
   "source": [
    "#### We need to rename 'Unnamed' columns and cleans this dataset"
   ]
  },
  {
   "cell_type": "code",
   "execution_count": 17,
   "metadata": {},
   "outputs": [],
   "source": [
    "df = df.drop('Code de la commune', axis=1)"
   ]
  },
  {
   "cell_type": "code",
   "execution_count": 28,
   "metadata": {},
   "outputs": [],
   "source": [
    "df = df.drop('Code de la circonscription', axis=1)"
   ]
  },
  {
   "cell_type": "code",
   "execution_count": 30,
   "metadata": {},
   "outputs": [],
   "source": [
    "df = df.drop('Code du b.vote', axis=1)"
   ]
  },
  {
   "cell_type": "code",
   "execution_count": 22,
   "metadata": {},
   "outputs": [
    {
     "ename": "KeyError",
     "evalue": "\"['Blancs'] not found in axis\"",
     "output_type": "error",
     "traceback": [
      "\u001b[1;31m---------------------------------------------------------------------------\u001b[0m",
      "\u001b[1;31mKeyError\u001b[0m                                  Traceback (most recent call last)",
      "\u001b[1;32m<ipython-input-22-0beb3351b590>\u001b[0m in \u001b[0;36m<module>\u001b[1;34m\u001b[0m\n\u001b[1;32m----> 1\u001b[1;33m \u001b[0mdf\u001b[0m \u001b[1;33m=\u001b[0m \u001b[0mdf\u001b[0m\u001b[1;33m.\u001b[0m\u001b[0mdrop\u001b[0m\u001b[1;33m(\u001b[0m\u001b[1;34m'Blancs'\u001b[0m\u001b[1;33m,\u001b[0m \u001b[0maxis\u001b[0m\u001b[1;33m=\u001b[0m\u001b[1;36m1\u001b[0m\u001b[1;33m)\u001b[0m\u001b[1;33m\u001b[0m\u001b[1;33m\u001b[0m\u001b[0m\n\u001b[0m",
      "\u001b[1;32m~\\anaconda3\\lib\\site-packages\\pandas\\core\\frame.py\u001b[0m in \u001b[0;36mdrop\u001b[1;34m(self, labels, axis, index, columns, level, inplace, errors)\u001b[0m\n\u001b[0;32m   3988\u001b[0m                 \u001b[0mweight\u001b[0m  \u001b[1;36m1.0\u001b[0m     \u001b[1;36m0.8\u001b[0m\u001b[1;33m\u001b[0m\u001b[1;33m\u001b[0m\u001b[0m\n\u001b[0;32m   3989\u001b[0m         \"\"\"\n\u001b[1;32m-> 3990\u001b[1;33m         return super().drop(\n\u001b[0m\u001b[0;32m   3991\u001b[0m             \u001b[0mlabels\u001b[0m\u001b[1;33m=\u001b[0m\u001b[0mlabels\u001b[0m\u001b[1;33m,\u001b[0m\u001b[1;33m\u001b[0m\u001b[1;33m\u001b[0m\u001b[0m\n\u001b[0;32m   3992\u001b[0m             \u001b[0maxis\u001b[0m\u001b[1;33m=\u001b[0m\u001b[0maxis\u001b[0m\u001b[1;33m,\u001b[0m\u001b[1;33m\u001b[0m\u001b[1;33m\u001b[0m\u001b[0m\n",
      "\u001b[1;32m~\\anaconda3\\lib\\site-packages\\pandas\\core\\generic.py\u001b[0m in \u001b[0;36mdrop\u001b[1;34m(self, labels, axis, index, columns, level, inplace, errors)\u001b[0m\n\u001b[0;32m   3934\u001b[0m         \u001b[1;32mfor\u001b[0m \u001b[0maxis\u001b[0m\u001b[1;33m,\u001b[0m \u001b[0mlabels\u001b[0m \u001b[1;32min\u001b[0m \u001b[0maxes\u001b[0m\u001b[1;33m.\u001b[0m\u001b[0mitems\u001b[0m\u001b[1;33m(\u001b[0m\u001b[1;33m)\u001b[0m\u001b[1;33m:\u001b[0m\u001b[1;33m\u001b[0m\u001b[1;33m\u001b[0m\u001b[0m\n\u001b[0;32m   3935\u001b[0m             \u001b[1;32mif\u001b[0m \u001b[0mlabels\u001b[0m \u001b[1;32mis\u001b[0m \u001b[1;32mnot\u001b[0m \u001b[1;32mNone\u001b[0m\u001b[1;33m:\u001b[0m\u001b[1;33m\u001b[0m\u001b[1;33m\u001b[0m\u001b[0m\n\u001b[1;32m-> 3936\u001b[1;33m                 \u001b[0mobj\u001b[0m \u001b[1;33m=\u001b[0m \u001b[0mobj\u001b[0m\u001b[1;33m.\u001b[0m\u001b[0m_drop_axis\u001b[0m\u001b[1;33m(\u001b[0m\u001b[0mlabels\u001b[0m\u001b[1;33m,\u001b[0m \u001b[0maxis\u001b[0m\u001b[1;33m,\u001b[0m \u001b[0mlevel\u001b[0m\u001b[1;33m=\u001b[0m\u001b[0mlevel\u001b[0m\u001b[1;33m,\u001b[0m \u001b[0merrors\u001b[0m\u001b[1;33m=\u001b[0m\u001b[0merrors\u001b[0m\u001b[1;33m)\u001b[0m\u001b[1;33m\u001b[0m\u001b[1;33m\u001b[0m\u001b[0m\n\u001b[0m\u001b[0;32m   3937\u001b[0m \u001b[1;33m\u001b[0m\u001b[0m\n\u001b[0;32m   3938\u001b[0m         \u001b[1;32mif\u001b[0m \u001b[0minplace\u001b[0m\u001b[1;33m:\u001b[0m\u001b[1;33m\u001b[0m\u001b[1;33m\u001b[0m\u001b[0m\n",
      "\u001b[1;32m~\\anaconda3\\lib\\site-packages\\pandas\\core\\generic.py\u001b[0m in \u001b[0;36m_drop_axis\u001b[1;34m(self, labels, axis, level, errors)\u001b[0m\n\u001b[0;32m   3968\u001b[0m                 \u001b[0mnew_axis\u001b[0m \u001b[1;33m=\u001b[0m \u001b[0maxis\u001b[0m\u001b[1;33m.\u001b[0m\u001b[0mdrop\u001b[0m\u001b[1;33m(\u001b[0m\u001b[0mlabels\u001b[0m\u001b[1;33m,\u001b[0m \u001b[0mlevel\u001b[0m\u001b[1;33m=\u001b[0m\u001b[0mlevel\u001b[0m\u001b[1;33m,\u001b[0m \u001b[0merrors\u001b[0m\u001b[1;33m=\u001b[0m\u001b[0merrors\u001b[0m\u001b[1;33m)\u001b[0m\u001b[1;33m\u001b[0m\u001b[1;33m\u001b[0m\u001b[0m\n\u001b[0;32m   3969\u001b[0m             \u001b[1;32melse\u001b[0m\u001b[1;33m:\u001b[0m\u001b[1;33m\u001b[0m\u001b[1;33m\u001b[0m\u001b[0m\n\u001b[1;32m-> 3970\u001b[1;33m                 \u001b[0mnew_axis\u001b[0m \u001b[1;33m=\u001b[0m \u001b[0maxis\u001b[0m\u001b[1;33m.\u001b[0m\u001b[0mdrop\u001b[0m\u001b[1;33m(\u001b[0m\u001b[0mlabels\u001b[0m\u001b[1;33m,\u001b[0m \u001b[0merrors\u001b[0m\u001b[1;33m=\u001b[0m\u001b[0merrors\u001b[0m\u001b[1;33m)\u001b[0m\u001b[1;33m\u001b[0m\u001b[1;33m\u001b[0m\u001b[0m\n\u001b[0m\u001b[0;32m   3971\u001b[0m             \u001b[0mresult\u001b[0m \u001b[1;33m=\u001b[0m \u001b[0mself\u001b[0m\u001b[1;33m.\u001b[0m\u001b[0mreindex\u001b[0m\u001b[1;33m(\u001b[0m\u001b[1;33m**\u001b[0m\u001b[1;33m{\u001b[0m\u001b[0maxis_name\u001b[0m\u001b[1;33m:\u001b[0m \u001b[0mnew_axis\u001b[0m\u001b[1;33m}\u001b[0m\u001b[1;33m)\u001b[0m\u001b[1;33m\u001b[0m\u001b[1;33m\u001b[0m\u001b[0m\n\u001b[0;32m   3972\u001b[0m \u001b[1;33m\u001b[0m\u001b[0m\n",
      "\u001b[1;32m~\\anaconda3\\lib\\site-packages\\pandas\\core\\indexes\\base.py\u001b[0m in \u001b[0;36mdrop\u001b[1;34m(self, labels, errors)\u001b[0m\n\u001b[0;32m   5016\u001b[0m         \u001b[1;32mif\u001b[0m \u001b[0mmask\u001b[0m\u001b[1;33m.\u001b[0m\u001b[0many\u001b[0m\u001b[1;33m(\u001b[0m\u001b[1;33m)\u001b[0m\u001b[1;33m:\u001b[0m\u001b[1;33m\u001b[0m\u001b[1;33m\u001b[0m\u001b[0m\n\u001b[0;32m   5017\u001b[0m             \u001b[1;32mif\u001b[0m \u001b[0merrors\u001b[0m \u001b[1;33m!=\u001b[0m \u001b[1;34m\"ignore\"\u001b[0m\u001b[1;33m:\u001b[0m\u001b[1;33m\u001b[0m\u001b[1;33m\u001b[0m\u001b[0m\n\u001b[1;32m-> 5018\u001b[1;33m                 \u001b[1;32mraise\u001b[0m \u001b[0mKeyError\u001b[0m\u001b[1;33m(\u001b[0m\u001b[1;34mf\"{labels[mask]} not found in axis\"\u001b[0m\u001b[1;33m)\u001b[0m\u001b[1;33m\u001b[0m\u001b[1;33m\u001b[0m\u001b[0m\n\u001b[0m\u001b[0;32m   5019\u001b[0m             \u001b[0mindexer\u001b[0m \u001b[1;33m=\u001b[0m \u001b[0mindexer\u001b[0m\u001b[1;33m[\u001b[0m\u001b[1;33m~\u001b[0m\u001b[0mmask\u001b[0m\u001b[1;33m]\u001b[0m\u001b[1;33m\u001b[0m\u001b[1;33m\u001b[0m\u001b[0m\n\u001b[0;32m   5020\u001b[0m         \u001b[1;32mreturn\u001b[0m \u001b[0mself\u001b[0m\u001b[1;33m.\u001b[0m\u001b[0mdelete\u001b[0m\u001b[1;33m(\u001b[0m\u001b[0mindexer\u001b[0m\u001b[1;33m)\u001b[0m\u001b[1;33m\u001b[0m\u001b[1;33m\u001b[0m\u001b[0m\n",
      "\u001b[1;31mKeyError\u001b[0m: \"['Blancs'] not found in axis\""
     ]
    }
   ],
   "source": [
    "df = df.drop('Blancs', axis=1)"
   ]
  },
  {
   "cell_type": "code",
   "execution_count": 21,
   "metadata": {},
   "outputs": [],
   "source": [
    "df = df.drop('% Blancs/Ins', axis=1)\n",
    "df = df.drop('% Blancs/Vot', axis=1)"
   ]
  },
  {
   "cell_type": "code",
   "execution_count": 23,
   "metadata": {},
   "outputs": [],
   "source": [
    "df = df.drop('N°Panneau', axis=1)"
   ]
  },
  {
   "cell_type": "code",
   "execution_count": 31,
   "metadata": {},
   "outputs": [],
   "source": [
    "df['voix_lutte_ouvriere'] = df['Voix'] "
   ]
  },
  {
   "cell_type": "markdown",
   "metadata": {},
   "source": [
    "df = df.drop('% Voix/Ins', axis=1)"
   ]
  },
  {
   "cell_type": "code",
   "execution_count": 36,
   "metadata": {},
   "outputs": [],
   "source": [
    "df['res_lutte_ouvriere'] = df['% Voix/Exp']"
   ]
  },
  {
   "cell_type": "code",
   "execution_count": 39,
   "metadata": {},
   "outputs": [],
   "source": [
    "df = df.drop('Unnamed: 28', axis=1)"
   ]
  },
  {
   "cell_type": "code",
   "execution_count": 42,
   "metadata": {},
   "outputs": [],
   "source": [
    "df['voix_pcf'] = df['Unnamed: 32']"
   ]
  },
  {
   "cell_type": "code",
   "execution_count": 43,
   "metadata": {},
   "outputs": [
    {
     "data": {
      "text/plain": [
       "0         6\n",
       "1         7\n",
       "2        30\n",
       "3        13\n",
       "4        18\n",
       "         ..\n",
       "69677    43\n",
       "69678     1\n",
       "69679     1\n",
       "69680     1\n",
       "69681     1\n",
       "Name: voix_pcf, Length: 69682, dtype: int64"
      ]
     },
     "execution_count": 43,
     "metadata": {},
     "output_type": "execute_result"
    }
   ],
   "source": [
    "df['voix_pcf']"
   ]
  },
  {
   "cell_type": "code",
   "execution_count": 45,
   "metadata": {},
   "outputs": [],
   "source": [
    "df['res_pcf'] = df['Unnamed: 34']"
   ]
  },
  {
   "cell_type": "code",
   "execution_count": 46,
   "metadata": {},
   "outputs": [],
   "source": [
    "df['voix_lrem'] = df['Unnamed: 39']"
   ]
  },
  {
   "cell_type": "code",
   "execution_count": 47,
   "metadata": {},
   "outputs": [],
   "source": [
    "df['res_lrem'] = df['Unnamed: 41']"
   ]
  },
  {
   "cell_type": "code",
   "execution_count": 48,
   "metadata": {},
   "outputs": [],
   "source": [
    "df['voix_resistons'] = df['Unnamed: 46']"
   ]
  },
  {
   "cell_type": "code",
   "execution_count": 50,
   "metadata": {},
   "outputs": [],
   "source": [
    "df['res_resistons'] = df['Unnamed: 48']"
   ]
  },
  {
   "cell_type": "code",
   "execution_count": 51,
   "metadata": {},
   "outputs": [],
   "source": [
    "df['voix_rn'] = df['Unnamed: 53']"
   ]
  },
  {
   "cell_type": "code",
   "execution_count": 52,
   "metadata": {},
   "outputs": [],
   "source": [
    "df['res_rn'] = df['Unnamed: 55']"
   ]
  },
  {
   "cell_type": "code",
   "execution_count": 53,
   "metadata": {},
   "outputs": [
    {
     "data": {
      "text/plain": [
       "0        28.65\n",
       "1        13.45\n",
       "2        28.21\n",
       "3        24.94\n",
       "4        23.92\n",
       "         ...  \n",
       "69677     4.43\n",
       "69678     3.83\n",
       "69679     5.88\n",
       "69680     2.53\n",
       "69681     5.45\n",
       "Name: res_rn, Length: 69682, dtype: float64"
      ]
     },
     "execution_count": 53,
     "metadata": {},
     "output_type": "execute_result"
    }
   ],
   "source": [
    "df['res_rn']"
   ]
  },
  {
   "cell_type": "code",
   "execution_count": 54,
   "metadata": {},
   "outputs": [],
   "source": [
    "df['voix_reconquete'] = df['Unnamed: 60']"
   ]
  },
  {
   "cell_type": "code",
   "execution_count": 55,
   "metadata": {},
   "outputs": [],
   "source": [
    "df['res_reconquete'] = df['Unnamed: 62']"
   ]
  },
  {
   "cell_type": "code",
   "execution_count": 56,
   "metadata": {},
   "outputs": [],
   "source": [
    "df['voix_lfi'] = df['Unnamed: 67']"
   ]
  },
  {
   "cell_type": "code",
   "execution_count": 59,
   "metadata": {},
   "outputs": [],
   "source": [
    "df['res_lfi'] = df['Unnamed: 69']"
   ]
  },
  {
   "cell_type": "code",
   "execution_count": 60,
   "metadata": {},
   "outputs": [],
   "source": [
    "df['voix_ps'] = df['Unnamed: 74']"
   ]
  },
  {
   "cell_type": "code",
   "execution_count": 62,
   "metadata": {},
   "outputs": [],
   "source": [
    "df['res_ps'] = df['Unnamed: 76']"
   ]
  },
  {
   "cell_type": "code",
   "execution_count": 63,
   "metadata": {},
   "outputs": [
    {
     "data": {
      "text/plain": [
       "0        0.96\n",
       "1        1.75\n",
       "2        1.79\n",
       "3        2.26\n",
       "4        1.69\n",
       "         ... \n",
       "69677    2.51\n",
       "69678    1.59\n",
       "69679    0.00\n",
       "69680    1.27\n",
       "69681    0.00\n",
       "Name: res_ps, Length: 69682, dtype: float64"
      ]
     },
     "execution_count": 63,
     "metadata": {},
     "output_type": "execute_result"
    }
   ],
   "source": [
    "df['res_ps']"
   ]
  },
  {
   "cell_type": "code",
   "execution_count": 64,
   "metadata": {},
   "outputs": [],
   "source": [
    "df['voix_eelv'] = df['Unnamed: 81']"
   ]
  },
  {
   "cell_type": "code",
   "execution_count": 65,
   "metadata": {},
   "outputs": [],
   "source": [
    "df['res_eelv'] = df['Unnamed: 83']"
   ]
  },
  {
   "cell_type": "code",
   "execution_count": 66,
   "metadata": {},
   "outputs": [],
   "source": [
    "df['voix_lr'] = df['Unnamed: 88']"
   ]
  },
  {
   "cell_type": "code",
   "execution_count": 67,
   "metadata": {},
   "outputs": [],
   "source": [
    "df['res_lr'] = df['Unnamed: 90']"
   ]
  },
  {
   "cell_type": "code",
   "execution_count": 68,
   "metadata": {},
   "outputs": [],
   "source": [
    "df['voix_npa'] = df['Unnamed: 95']"
   ]
  },
  {
   "cell_type": "code",
   "execution_count": 69,
   "metadata": {},
   "outputs": [],
   "source": [
    "df['res_npa'] = df['Unnamed: 97']"
   ]
  },
  {
   "cell_type": "code",
   "execution_count": 71,
   "metadata": {},
   "outputs": [],
   "source": [
    "df['voix_debout'] = df['Unnamed: 102']"
   ]
  },
  {
   "cell_type": "code",
   "execution_count": 72,
   "metadata": {},
   "outputs": [],
   "source": [
    "df['res_debout'] = df['Unnamed: 104']"
   ]
  },
  {
   "cell_type": "code",
   "execution_count": 73,
   "metadata": {},
   "outputs": [
    {
     "name": "stdout",
     "output_type": "stream",
     "text": [
      "Code du département\n",
      "Libellé du département\n",
      "Libellé de la circonscription\n",
      "Libellé de la commune\n",
      "Inscrits\n",
      "Abstentions\n",
      "% Abs/Ins\n",
      "Votants\n",
      "% Vot/Ins\n",
      "Nuls\n",
      "% Nuls/Ins\n",
      "% Nuls/Vot\n",
      "Exprimés\n",
      "% Exp/Ins\n",
      "% Exp/Vot\n",
      "Voix\n",
      "% Voix/Exp\n",
      "Unnamed: 29\n",
      "Unnamed: 30\n",
      "Unnamed: 31\n",
      "Unnamed: 32\n",
      "Unnamed: 33\n",
      "Unnamed: 34\n",
      "Unnamed: 35\n",
      "Unnamed: 36\n",
      "Unnamed: 37\n",
      "Unnamed: 38\n",
      "Unnamed: 39\n",
      "Unnamed: 40\n",
      "Unnamed: 41\n",
      "Unnamed: 42\n",
      "Unnamed: 43\n",
      "Unnamed: 44\n",
      "Unnamed: 45\n",
      "Unnamed: 46\n",
      "Unnamed: 47\n",
      "Unnamed: 48\n",
      "Unnamed: 49\n",
      "Unnamed: 50\n",
      "Unnamed: 51\n",
      "Unnamed: 52\n",
      "Unnamed: 53\n",
      "Unnamed: 54\n",
      "Unnamed: 55\n",
      "Unnamed: 56\n",
      "Unnamed: 57\n",
      "Unnamed: 58\n",
      "Unnamed: 59\n",
      "Unnamed: 60\n",
      "Unnamed: 61\n",
      "Unnamed: 62\n",
      "Unnamed: 63\n",
      "Unnamed: 64\n",
      "Unnamed: 65\n",
      "Unnamed: 66\n",
      "Unnamed: 67\n",
      "Unnamed: 68\n",
      "Unnamed: 69\n",
      "Unnamed: 70\n",
      "Unnamed: 71\n",
      "Unnamed: 72\n",
      "Unnamed: 73\n",
      "Unnamed: 74\n",
      "Unnamed: 75\n",
      "Unnamed: 76\n",
      "Unnamed: 77\n",
      "Unnamed: 78\n",
      "Unnamed: 79\n",
      "Unnamed: 80\n",
      "Unnamed: 81\n",
      "Unnamed: 82\n",
      "Unnamed: 83\n",
      "Unnamed: 84\n",
      "Unnamed: 85\n",
      "Unnamed: 86\n",
      "Unnamed: 87\n",
      "Unnamed: 88\n",
      "Unnamed: 89\n",
      "Unnamed: 90\n",
      "Unnamed: 91\n",
      "Unnamed: 92\n",
      "Unnamed: 93\n",
      "Unnamed: 94\n",
      "Unnamed: 95\n",
      "Unnamed: 96\n",
      "Unnamed: 97\n",
      "Unnamed: 98\n",
      "Unnamed: 99\n",
      "Unnamed: 100\n",
      "Unnamed: 101\n",
      "Unnamed: 102\n",
      "Unnamed: 103\n",
      "Unnamed: 104\n",
      "lutte_ouvriere\n",
      "voix_lutte_ouvriere\n",
      "res_lutte_ouvriere\n",
      "voix_pcf\n",
      "res_pcf\n",
      "voix_lrem\n",
      "res_lrem\n",
      "voix_resistons\n",
      "res_resistons\n",
      "voix_rn\n",
      "res_rn\n",
      "voix_reconquete\n",
      "res_reconquete\n",
      "voix_lfi\n",
      "res_lfi\n",
      "res_ps\n",
      "voix_ps\n",
      "voix_eelv\n",
      "res_eelv\n",
      "voix_lr\n",
      "res_lr\n",
      "voix_npa\n",
      "res_npa\n",
      "voix_debout\n",
      "res_debout\n"
     ]
    }
   ],
   "source": [
    "for col in df.columns:\n",
    "    print(col)"
   ]
  },
  {
   "cell_type": "code",
   "execution_count": 74,
   "metadata": {},
   "outputs": [],
   "source": [
    "for i in range(29, 104):\n",
    "    nom_colonne = \"Unnamed: \" + str(i)\n",
    "    df = df.drop([nom_colonne], axis=1)"
   ]
  },
  {
   "cell_type": "code",
   "execution_count": 75,
   "metadata": {},
   "outputs": [
    {
     "name": "stdout",
     "output_type": "stream",
     "text": [
      "Code du département\n",
      "Libellé du département\n",
      "Libellé de la circonscription\n",
      "Libellé de la commune\n",
      "Inscrits\n",
      "Abstentions\n",
      "% Abs/Ins\n",
      "Votants\n",
      "% Vot/Ins\n",
      "Nuls\n",
      "% Nuls/Ins\n",
      "% Nuls/Vot\n",
      "Exprimés\n",
      "% Exp/Ins\n",
      "% Exp/Vot\n",
      "Voix\n",
      "% Voix/Exp\n",
      "Unnamed: 104\n",
      "lutte_ouvriere\n",
      "voix_lutte_ouvriere\n",
      "res_lutte_ouvriere\n",
      "voix_pcf\n",
      "res_pcf\n",
      "voix_lrem\n",
      "res_lrem\n",
      "voix_resistons\n",
      "res_resistons\n",
      "voix_rn\n",
      "res_rn\n",
      "voix_reconquete\n",
      "res_reconquete\n",
      "voix_lfi\n",
      "res_lfi\n",
      "res_ps\n",
      "voix_ps\n",
      "voix_eelv\n",
      "res_eelv\n",
      "voix_lr\n",
      "res_lr\n",
      "voix_npa\n",
      "res_npa\n",
      "voix_debout\n",
      "res_debout\n"
     ]
    }
   ],
   "source": [
    "for col in df.columns:\n",
    "    print(col)"
   ]
  },
  {
   "cell_type": "code",
   "execution_count": 77,
   "metadata": {},
   "outputs": [
    {
     "data": {
      "text/plain": [
       "(69682, 43)"
      ]
     },
     "execution_count": 77,
     "metadata": {},
     "output_type": "execute_result"
    }
   ],
   "source": [
    "df.shape"
   ]
  },
  {
   "cell_type": "markdown",
   "metadata": {},
   "source": [
    "#### We will also add a 'winner' column, for each 'circonscription' the candidate that did the best score"
   ]
  },
  {
   "cell_type": "code",
   "execution_count": 81,
   "metadata": {},
   "outputs": [],
   "source": [
    "df['max'] = df[['res_lutte_ouvriere', 'res_pcf', 'res_ps', 'res_lrem', 'res_eelv', 'res_debout',\n",
    "                'res_resistons', 'res_reconquete', 'res_lfi', 'res_npa', 'res_lr']].max(axis=1)\n"
   ]
  },
  {
   "cell_type": "code",
   "execution_count": 82,
   "metadata": {},
   "outputs": [
    {
     "data": {
      "text/html": [
       "<div>\n",
       "<style scoped>\n",
       "    .dataframe tbody tr th:only-of-type {\n",
       "        vertical-align: middle;\n",
       "    }\n",
       "\n",
       "    .dataframe tbody tr th {\n",
       "        vertical-align: top;\n",
       "    }\n",
       "\n",
       "    .dataframe thead th {\n",
       "        text-align: right;\n",
       "    }\n",
       "</style>\n",
       "<table border=\"1\" class=\"dataframe\">\n",
       "  <thead>\n",
       "    <tr style=\"text-align: right;\">\n",
       "      <th></th>\n",
       "      <th>Code du département</th>\n",
       "      <th>Libellé du département</th>\n",
       "      <th>Libellé de la circonscription</th>\n",
       "      <th>Libellé de la commune</th>\n",
       "      <th>Inscrits</th>\n",
       "      <th>Abstentions</th>\n",
       "      <th>% Abs/Ins</th>\n",
       "      <th>Votants</th>\n",
       "      <th>% Vot/Ins</th>\n",
       "      <th>Nuls</th>\n",
       "      <th>...</th>\n",
       "      <th>voix_eelv</th>\n",
       "      <th>res_eelv</th>\n",
       "      <th>voix_lr</th>\n",
       "      <th>res_lr</th>\n",
       "      <th>voix_npa</th>\n",
       "      <th>res_npa</th>\n",
       "      <th>voix_debout</th>\n",
       "      <th>res_debout</th>\n",
       "      <th>win</th>\n",
       "      <th>max</th>\n",
       "    </tr>\n",
       "  </thead>\n",
       "  <tbody>\n",
       "    <tr>\n",
       "      <th>0</th>\n",
       "      <td>01</td>\n",
       "      <td>Ain</td>\n",
       "      <td>4ème circonscription</td>\n",
       "      <td>L'Abergement-Clémenciat</td>\n",
       "      <td>645</td>\n",
       "      <td>108</td>\n",
       "      <td>16.74</td>\n",
       "      <td>537</td>\n",
       "      <td>83.26</td>\n",
       "      <td>1</td>\n",
       "      <td>...</td>\n",
       "      <td>30</td>\n",
       "      <td>5.77</td>\n",
       "      <td>26</td>\n",
       "      <td>5.00</td>\n",
       "      <td>3</td>\n",
       "      <td>0.58</td>\n",
       "      <td>21</td>\n",
       "      <td>4.04</td>\n",
       "      <td>28.85</td>\n",
       "      <td>28.85</td>\n",
       "    </tr>\n",
       "    <tr>\n",
       "      <th>1</th>\n",
       "      <td>01</td>\n",
       "      <td>Ain</td>\n",
       "      <td>5ème circonscription</td>\n",
       "      <td>L'Abergement-de-Varey</td>\n",
       "      <td>213</td>\n",
       "      <td>38</td>\n",
       "      <td>17.84</td>\n",
       "      <td>175</td>\n",
       "      <td>82.16</td>\n",
       "      <td>1</td>\n",
       "      <td>...</td>\n",
       "      <td>10</td>\n",
       "      <td>5.85</td>\n",
       "      <td>8</td>\n",
       "      <td>4.68</td>\n",
       "      <td>3</td>\n",
       "      <td>1.75</td>\n",
       "      <td>0</td>\n",
       "      <td>0.00</td>\n",
       "      <td>29.24</td>\n",
       "      <td>29.24</td>\n",
       "    </tr>\n",
       "    <tr>\n",
       "      <th>2</th>\n",
       "      <td>01</td>\n",
       "      <td>Ain</td>\n",
       "      <td>5ème circonscription</td>\n",
       "      <td>Ambérieu-en-Bugey</td>\n",
       "      <td>1129</td>\n",
       "      <td>266</td>\n",
       "      <td>23.56</td>\n",
       "      <td>863</td>\n",
       "      <td>76.44</td>\n",
       "      <td>5</td>\n",
       "      <td>...</td>\n",
       "      <td>25</td>\n",
       "      <td>2.98</td>\n",
       "      <td>40</td>\n",
       "      <td>4.76</td>\n",
       "      <td>8</td>\n",
       "      <td>0.95</td>\n",
       "      <td>13</td>\n",
       "      <td>1.55</td>\n",
       "      <td>25.71</td>\n",
       "      <td>25.71</td>\n",
       "    </tr>\n",
       "    <tr>\n",
       "      <th>3</th>\n",
       "      <td>01</td>\n",
       "      <td>Ain</td>\n",
       "      <td>5ème circonscription</td>\n",
       "      <td>Ambérieu-en-Bugey</td>\n",
       "      <td>1128</td>\n",
       "      <td>265</td>\n",
       "      <td>23.49</td>\n",
       "      <td>863</td>\n",
       "      <td>76.51</td>\n",
       "      <td>6</td>\n",
       "      <td>...</td>\n",
       "      <td>46</td>\n",
       "      <td>5.46</td>\n",
       "      <td>42</td>\n",
       "      <td>4.99</td>\n",
       "      <td>4</td>\n",
       "      <td>0.48</td>\n",
       "      <td>20</td>\n",
       "      <td>2.38</td>\n",
       "      <td>23.87</td>\n",
       "      <td>23.87</td>\n",
       "    </tr>\n",
       "    <tr>\n",
       "      <th>4</th>\n",
       "      <td>01</td>\n",
       "      <td>Ain</td>\n",
       "      <td>5ème circonscription</td>\n",
       "      <td>Ambérieu-en-Bugey</td>\n",
       "      <td>1213</td>\n",
       "      <td>246</td>\n",
       "      <td>20.28</td>\n",
       "      <td>967</td>\n",
       "      <td>79.72</td>\n",
       "      <td>8</td>\n",
       "      <td>...</td>\n",
       "      <td>65</td>\n",
       "      <td>6.85</td>\n",
       "      <td>35</td>\n",
       "      <td>3.69</td>\n",
       "      <td>3</td>\n",
       "      <td>0.32</td>\n",
       "      <td>19</td>\n",
       "      <td>2.00</td>\n",
       "      <td>24.13</td>\n",
       "      <td>24.13</td>\n",
       "    </tr>\n",
       "  </tbody>\n",
       "</table>\n",
       "<p>5 rows × 45 columns</p>\n",
       "</div>"
      ],
      "text/plain": [
       "  Code du département Libellé du département Libellé de la circonscription  \\\n",
       "0                  01                    Ain          4ème circonscription   \n",
       "1                  01                    Ain          5ème circonscription   \n",
       "2                  01                    Ain          5ème circonscription   \n",
       "3                  01                    Ain          5ème circonscription   \n",
       "4                  01                    Ain          5ème circonscription   \n",
       "\n",
       "     Libellé de la commune  Inscrits  Abstentions  % Abs/Ins  Votants  \\\n",
       "0  L'Abergement-Clémenciat       645          108      16.74      537   \n",
       "1    L'Abergement-de-Varey       213           38      17.84      175   \n",
       "2        Ambérieu-en-Bugey      1129          266      23.56      863   \n",
       "3        Ambérieu-en-Bugey      1128          265      23.49      863   \n",
       "4        Ambérieu-en-Bugey      1213          246      20.28      967   \n",
       "\n",
       "   % Vot/Ins  Nuls  ...  voix_eelv  res_eelv  voix_lr  res_lr  voix_npa  \\\n",
       "0      83.26     1  ...         30      5.77       26    5.00         3   \n",
       "1      82.16     1  ...         10      5.85        8    4.68         3   \n",
       "2      76.44     5  ...         25      2.98       40    4.76         8   \n",
       "3      76.51     6  ...         46      5.46       42    4.99         4   \n",
       "4      79.72     8  ...         65      6.85       35    3.69         3   \n",
       "\n",
       "   res_npa  voix_debout  res_debout    win    max  \n",
       "0     0.58           21        4.04  28.85  28.85  \n",
       "1     1.75            0        0.00  29.24  29.24  \n",
       "2     0.95           13        1.55  25.71  25.71  \n",
       "3     0.48           20        2.38  23.87  23.87  \n",
       "4     0.32           19        2.00  24.13  24.13  \n",
       "\n",
       "[5 rows x 45 columns]"
      ]
     },
     "execution_count": 82,
     "metadata": {},
     "output_type": "execute_result"
    }
   ],
   "source": [
    "df.head()"
   ]
  },
  {
   "cell_type": "code",
   "execution_count": 83,
   "metadata": {},
   "outputs": [],
   "source": [
    "res = ['res_lutte_ouvriere', 'res_pcf', 'res_ps', 'res_lrem', 'res_eelv', 'res_debout',\n",
    "                'res_resistons', 'res_reconquete', 'res_lfi', 'res_npa', 'res_lr']"
   ]
  },
  {
   "cell_type": "code",
   "execution_count": 87,
   "metadata": {},
   "outputs": [],
   "source": [
    "df_res = df.loc[:, res]"
   ]
  },
  {
   "cell_type": "code",
   "execution_count": 88,
   "metadata": {},
   "outputs": [
    {
     "name": "stdout",
     "output_type": "stream",
     "text": [
      "      Code du département           Libellé du département  \\\n",
      "0                      01                              Ain   \n",
      "1                      01                              Ain   \n",
      "2                      01                              Ain   \n",
      "3                      01                              Ain   \n",
      "4                      01                              Ain   \n",
      "...                   ...                              ...   \n",
      "69677                  ZZ  Français établis hors de France   \n",
      "69678                  ZZ  Français établis hors de France   \n",
      "69679                  ZZ  Français établis hors de France   \n",
      "69680                  ZZ  Français établis hors de France   \n",
      "69681                  ZZ  Français établis hors de France   \n",
      "\n",
      "      Libellé de la circonscription    Libellé de la commune  Inscrits  \\\n",
      "0              4ème circonscription  L'Abergement-Clémenciat       645   \n",
      "1              5ème circonscription    L'Abergement-de-Varey       213   \n",
      "2              5ème circonscription        Ambérieu-en-Bugey      1129   \n",
      "3              5ème circonscription        Ambérieu-en-Bugey      1128   \n",
      "4              5ème circonscription        Ambérieu-en-Bugey      1213   \n",
      "...                             ...                      ...       ...   \n",
      "69677          6ème circonscription                   Zurich     24868   \n",
      "69678         11ème circonscription                   Taipei      1709   \n",
      "69679         11ème circonscription             Nour-Soultan       117   \n",
      "69680          2ème circonscription                Monterrey       713   \n",
      "69681          2ème circonscription         Bahamas (Nassau)       136   \n",
      "\n",
      "       Abstentions  % Abs/Ins  Votants  % Vot/Ins  Nuls  ...  voix_eelv  \\\n",
      "0              108      16.74      537      83.26     1  ...         30   \n",
      "1               38      17.84      175      82.16     1  ...         10   \n",
      "2              266      23.56      863      76.44     5  ...         25   \n",
      "3              265      23.49      863      76.51     6  ...         46   \n",
      "4              246      20.28      967      79.72     8  ...         65   \n",
      "...            ...        ...      ...        ...   ...  ...        ...   \n",
      "69677        14101      56.70    10767      43.30    31  ...        993   \n",
      "69678          942      55.12      767      44.88     2  ...         82   \n",
      "69679           64      54.70       53      45.30     0  ...          4   \n",
      "69680          553      77.56      160      22.44     2  ...         10   \n",
      "69681           78      57.35       58      42.65     0  ...          0   \n",
      "\n",
      "       res_eelv  voix_lr  res_lr  voix_npa  res_npa  voix_debout  res_debout  \\\n",
      "0          5.77       26    5.00         3     0.58           21        4.04   \n",
      "1          5.85        8    4.68         3     1.75            0        0.00   \n",
      "2          2.98       40    4.76         8     0.95           13        1.55   \n",
      "3          5.46       42    4.99         4     0.48           20        2.38   \n",
      "4          6.85       35    3.69         3     0.32           19        2.00   \n",
      "...         ...      ...     ...       ...      ...          ...         ...   \n",
      "69677      9.28      580    5.42        47     0.44          189        1.77   \n",
      "69678     10.83       33    4.36        10     1.32           10        1.32   \n",
      "69679      7.84        0    0.00         0     0.00            1        1.96   \n",
      "69680      6.33        5    3.16         1     0.63            1        0.63   \n",
      "69681      0.00        6   10.91         0     0.00            1        1.82   \n",
      "\n",
      "            win    max  \n",
      "0      res_lrem  28.85  \n",
      "1      res_lrem  29.24  \n",
      "2       res_lfi  25.71  \n",
      "3      res_lrem  23.87  \n",
      "4      res_lrem  24.13  \n",
      "...         ...    ...  \n",
      "69677  res_lrem  53.81  \n",
      "69678  res_lrem  37.78  \n",
      "69679  res_lrem  49.02  \n",
      "69680  res_lrem  60.76  \n",
      "69681  res_lrem  45.45  \n",
      "\n",
      "[69682 rows x 45 columns]\n"
     ]
    }
   ],
   "source": [
    "# adding 'win'\n",
    "df_res['win'] = df_res.apply(lambda x: x.idxmax(), axis=1)\n",
    "\n",
    "# Adding win to initial dataframe\n",
    "df['win'] = df_res['win']\n",
    "\n",
    "print(df)"
   ]
  },
  {
   "cell_type": "code",
   "execution_count": 89,
   "metadata": {},
   "outputs": [
    {
     "data": {
      "text/html": [
       "<div>\n",
       "<style scoped>\n",
       "    .dataframe tbody tr th:only-of-type {\n",
       "        vertical-align: middle;\n",
       "    }\n",
       "\n",
       "    .dataframe tbody tr th {\n",
       "        vertical-align: top;\n",
       "    }\n",
       "\n",
       "    .dataframe thead th {\n",
       "        text-align: right;\n",
       "    }\n",
       "</style>\n",
       "<table border=\"1\" class=\"dataframe\">\n",
       "  <thead>\n",
       "    <tr style=\"text-align: right;\">\n",
       "      <th></th>\n",
       "      <th>Code du département</th>\n",
       "      <th>Libellé du département</th>\n",
       "      <th>Libellé de la circonscription</th>\n",
       "      <th>Libellé de la commune</th>\n",
       "      <th>Inscrits</th>\n",
       "      <th>Abstentions</th>\n",
       "      <th>% Abs/Ins</th>\n",
       "      <th>Votants</th>\n",
       "      <th>% Vot/Ins</th>\n",
       "      <th>Nuls</th>\n",
       "      <th>...</th>\n",
       "      <th>voix_eelv</th>\n",
       "      <th>res_eelv</th>\n",
       "      <th>voix_lr</th>\n",
       "      <th>res_lr</th>\n",
       "      <th>voix_npa</th>\n",
       "      <th>res_npa</th>\n",
       "      <th>voix_debout</th>\n",
       "      <th>res_debout</th>\n",
       "      <th>win</th>\n",
       "      <th>max</th>\n",
       "    </tr>\n",
       "  </thead>\n",
       "  <tbody>\n",
       "    <tr>\n",
       "      <th>0</th>\n",
       "      <td>01</td>\n",
       "      <td>Ain</td>\n",
       "      <td>4ème circonscription</td>\n",
       "      <td>L'Abergement-Clémenciat</td>\n",
       "      <td>645</td>\n",
       "      <td>108</td>\n",
       "      <td>16.74</td>\n",
       "      <td>537</td>\n",
       "      <td>83.26</td>\n",
       "      <td>1</td>\n",
       "      <td>...</td>\n",
       "      <td>30</td>\n",
       "      <td>5.77</td>\n",
       "      <td>26</td>\n",
       "      <td>5.00</td>\n",
       "      <td>3</td>\n",
       "      <td>0.58</td>\n",
       "      <td>21</td>\n",
       "      <td>4.04</td>\n",
       "      <td>res_lrem</td>\n",
       "      <td>28.85</td>\n",
       "    </tr>\n",
       "    <tr>\n",
       "      <th>1</th>\n",
       "      <td>01</td>\n",
       "      <td>Ain</td>\n",
       "      <td>5ème circonscription</td>\n",
       "      <td>L'Abergement-de-Varey</td>\n",
       "      <td>213</td>\n",
       "      <td>38</td>\n",
       "      <td>17.84</td>\n",
       "      <td>175</td>\n",
       "      <td>82.16</td>\n",
       "      <td>1</td>\n",
       "      <td>...</td>\n",
       "      <td>10</td>\n",
       "      <td>5.85</td>\n",
       "      <td>8</td>\n",
       "      <td>4.68</td>\n",
       "      <td>3</td>\n",
       "      <td>1.75</td>\n",
       "      <td>0</td>\n",
       "      <td>0.00</td>\n",
       "      <td>res_lrem</td>\n",
       "      <td>29.24</td>\n",
       "    </tr>\n",
       "    <tr>\n",
       "      <th>2</th>\n",
       "      <td>01</td>\n",
       "      <td>Ain</td>\n",
       "      <td>5ème circonscription</td>\n",
       "      <td>Ambérieu-en-Bugey</td>\n",
       "      <td>1129</td>\n",
       "      <td>266</td>\n",
       "      <td>23.56</td>\n",
       "      <td>863</td>\n",
       "      <td>76.44</td>\n",
       "      <td>5</td>\n",
       "      <td>...</td>\n",
       "      <td>25</td>\n",
       "      <td>2.98</td>\n",
       "      <td>40</td>\n",
       "      <td>4.76</td>\n",
       "      <td>8</td>\n",
       "      <td>0.95</td>\n",
       "      <td>13</td>\n",
       "      <td>1.55</td>\n",
       "      <td>res_lfi</td>\n",
       "      <td>25.71</td>\n",
       "    </tr>\n",
       "    <tr>\n",
       "      <th>3</th>\n",
       "      <td>01</td>\n",
       "      <td>Ain</td>\n",
       "      <td>5ème circonscription</td>\n",
       "      <td>Ambérieu-en-Bugey</td>\n",
       "      <td>1128</td>\n",
       "      <td>265</td>\n",
       "      <td>23.49</td>\n",
       "      <td>863</td>\n",
       "      <td>76.51</td>\n",
       "      <td>6</td>\n",
       "      <td>...</td>\n",
       "      <td>46</td>\n",
       "      <td>5.46</td>\n",
       "      <td>42</td>\n",
       "      <td>4.99</td>\n",
       "      <td>4</td>\n",
       "      <td>0.48</td>\n",
       "      <td>20</td>\n",
       "      <td>2.38</td>\n",
       "      <td>res_lrem</td>\n",
       "      <td>23.87</td>\n",
       "    </tr>\n",
       "    <tr>\n",
       "      <th>4</th>\n",
       "      <td>01</td>\n",
       "      <td>Ain</td>\n",
       "      <td>5ème circonscription</td>\n",
       "      <td>Ambérieu-en-Bugey</td>\n",
       "      <td>1213</td>\n",
       "      <td>246</td>\n",
       "      <td>20.28</td>\n",
       "      <td>967</td>\n",
       "      <td>79.72</td>\n",
       "      <td>8</td>\n",
       "      <td>...</td>\n",
       "      <td>65</td>\n",
       "      <td>6.85</td>\n",
       "      <td>35</td>\n",
       "      <td>3.69</td>\n",
       "      <td>3</td>\n",
       "      <td>0.32</td>\n",
       "      <td>19</td>\n",
       "      <td>2.00</td>\n",
       "      <td>res_lrem</td>\n",
       "      <td>24.13</td>\n",
       "    </tr>\n",
       "  </tbody>\n",
       "</table>\n",
       "<p>5 rows × 45 columns</p>\n",
       "</div>"
      ],
      "text/plain": [
       "  Code du département Libellé du département Libellé de la circonscription  \\\n",
       "0                  01                    Ain          4ème circonscription   \n",
       "1                  01                    Ain          5ème circonscription   \n",
       "2                  01                    Ain          5ème circonscription   \n",
       "3                  01                    Ain          5ème circonscription   \n",
       "4                  01                    Ain          5ème circonscription   \n",
       "\n",
       "     Libellé de la commune  Inscrits  Abstentions  % Abs/Ins  Votants  \\\n",
       "0  L'Abergement-Clémenciat       645          108      16.74      537   \n",
       "1    L'Abergement-de-Varey       213           38      17.84      175   \n",
       "2        Ambérieu-en-Bugey      1129          266      23.56      863   \n",
       "3        Ambérieu-en-Bugey      1128          265      23.49      863   \n",
       "4        Ambérieu-en-Bugey      1213          246      20.28      967   \n",
       "\n",
       "   % Vot/Ins  Nuls  ...  voix_eelv  res_eelv  voix_lr  res_lr  voix_npa  \\\n",
       "0      83.26     1  ...         30      5.77       26    5.00         3   \n",
       "1      82.16     1  ...         10      5.85        8    4.68         3   \n",
       "2      76.44     5  ...         25      2.98       40    4.76         8   \n",
       "3      76.51     6  ...         46      5.46       42    4.99         4   \n",
       "4      79.72     8  ...         65      6.85       35    3.69         3   \n",
       "\n",
       "   res_npa  voix_debout  res_debout       win    max  \n",
       "0     0.58           21        4.04  res_lrem  28.85  \n",
       "1     1.75            0        0.00  res_lrem  29.24  \n",
       "2     0.95           13        1.55   res_lfi  25.71  \n",
       "3     0.48           20        2.38  res_lrem  23.87  \n",
       "4     0.32           19        2.00  res_lrem  24.13  \n",
       "\n",
       "[5 rows x 45 columns]"
      ]
     },
     "execution_count": 89,
     "metadata": {},
     "output_type": "execute_result"
    }
   ],
   "source": [
    "df.head()"
   ]
  },
  {
   "cell_type": "markdown",
   "metadata": {},
   "source": [
    "### We have now a clearer dataset to analyse, with easy to understand titles and organised data"
   ]
  },
  {
   "cell_type": "code",
   "execution_count": null,
   "metadata": {},
   "outputs": [],
   "source": []
  }
 ],
 "metadata": {
  "kernelspec": {
   "display_name": "Python 3",
   "language": "python",
   "name": "python3"
  },
  "language_info": {
   "codemirror_mode": {
    "name": "ipython",
    "version": 3
   },
   "file_extension": ".py",
   "mimetype": "text/x-python",
   "name": "python",
   "nbconvert_exporter": "python",
   "pygments_lexer": "ipython3",
   "version": "3.8.3"
  }
 },
 "nbformat": 4,
 "nbformat_minor": 4
}
